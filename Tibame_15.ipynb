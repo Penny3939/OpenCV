{
 "cells": [
  {
   "attachments": {},
   "cell_type": "markdown",
   "metadata": {},
   "source": [
<<<<<<< HEAD
    "# openCV：\n",
    "* 題目 ：請找一段約一分鐘左右的影片，利用上課時學過的影像處理功能，發揮所有創意和想像，將該影片加工特效，產生一段新影片，怕誤解同學的創意，請將你的亮點盡可能寫在影片中的右下角\n",
    "\n",
    "* 上傳 ：導師會有告訴同學上傳空間, 或可上傳到Youtube 或自己的雲端空間, 把連結給老師(依導師規範為準)\n",
    "\n",
    "* 繳交日期 ：課後二週\n",
    "\n",
    "* 評分 ：亮點愈亮，創意愈多，分數愈高 \n",
    "\n",
    "* 參考 :<br>\n",
    "https://www.youtube.com/watch?v=Fszu0L1JtqM"
=======
    "# openCV 練習 ：\n",
    "* 題目 ：請找一段約一分鐘左右的影片，利用上課時學過的影像處理功能，發揮所有創意和想像，將該影片加工特效，產生一段新影片，怕誤解同學的創意，請將你的亮點盡可能寫在影片中的右下角"
>>>>>>> 9ada60c (modify)
   ]
  },
  {
   "cell_type": "code",
   "execution_count": 2,
   "metadata": {},
   "outputs": [
    {
     "name": "stdout",
     "output_type": "stream",
     "text": [
      "30.0 1280 720 2803\n"
     ]
    },
    {
     "data": {
      "text/plain": [
       "-1"
      ]
     },
     "execution_count": 2,
     "metadata": {},
     "output_type": "execute_result"
    }
   ],
   "source": [
    "import numpy as np\n",
    "import dlib\n",
    "import cv2\n",
    "# import datetime as dt\n",
    "from datetime import datetime as dt\n",
    "now_dt = dt.now().strftime('%m/%d/%Y %H:%M:%S')\n",
    "\n",
    "cap = cv2.VideoCapture('./video/Alec_Baldwin.mp4')\n",
    "fps = cap.get(cv2.CAP_PROP_FPS)\n",
    "total_frames = int(cap.get(cv2.CAP_PROP_FRAME_COUNT))\n",
    "\n",
    "w = int(cap.get(cv2.CAP_PROP_FRAME_WIDTH))\n",
    "h = int(cap.get(cv2.CAP_PROP_FRAME_HEIGHT))\n",
    "frame_size = (int(cap.get(cv2.CAP_PROP_FRAME_WIDTH)), int(cap.get(cv2.CAP_PROP_FRAME_HEIGHT)))\n",
    "\n",
    "font = 2\n",
    "lt = 16\n",
    "print(fps, w, h, total_frames)\n",
    "\n",
    "fourcc = cv2.VideoWriter_fourcc(*'XVID')\n",
    "# out = cv2.VideoWriter('openCV_tibame_15.avi', fourcc, fps, frame_size) #儲存檔案,檔名為\"openCV_tibame_15\"\n",
    "\n",
    "# cv2.resizeWindow('frame', w, h)       # change frame size\n",
    "count=0\n",
    "while True:\n",
    "    ret, frame = cap.read() \n",
    "    if not ret or cv2.waitKey(30) == 27: break                 \n",
    "    # get the current time position in milliseconds\n",
    "    msec = cap.get(cv2.CAP_PROP_POS_MSEC)\n",
    "    \n",
    "    # add video effects based on time position      \n",
    "    if msec >= 800 and msec < 3200:   \n",
    "        frame = cv2.cvtColor(frame, cv2.COLOR_BGR2GRAY) # grayscale灰階\n",
    "    elif msec >= 3200 and msec < 6000:\n",
    "        frame = cv2.cvtColor(frame, cv2.COLOR_BGR2RGB) #轉為RGB\n",
    "    elif msec >= 6000 and msec < 9000:\n",
    "        frame = cv2.flip(frame, 2)       #左右相反      \n",
    "    elif msec >=9000 and msec <15000:\n",
    "        frame = cv2.flip(frame, -1)      #上下顛倒&左右相反\n",
    "    elif msec >=15000 and msec <19000:\n",
    "        frame = cv2.Canny(frame, 100, 200) # edge detection\n",
    "    elif msec >=19000 and msec <26000:\n",
    "        angle= (msec - 17000) / 5000 * 360          #angle控制旋轉的速度\n",
    "        rows, cols, _ = frame.shape\n",
    "        M = cv2.getRotationMatrix2D((cols/2, rows/2), angle, 1)\n",
    "        frame = cv2.warpAffine(frame, M, (cols, rows))\n",
    "    elif msec >=26000 and msec <30000: \n",
    "        img = cv2.resize(frame,(w,h))\n",
    "        img = img[:320, :320]\n",
    "        img2 = cv2.flip(img, 1)\n",
    "        img3 = cv2.flip(img, 0)\n",
    "        img4 = cv2.flip(img, -1)\n",
    "\n",
    "        # 绘制四个子图像及对应矩形\n",
    "        frame[:320, :320] = img\n",
    "        cv2.rectangle(frame, (0, 0), (320, 320), (0, 0, 255), thickness=2)\n",
    "        frame[:320, 320:640] = img2\n",
    "        cv2.rectangle(frame, (320, 0), (640, 320), (0, 255, 0), thickness=2)\n",
    "        frame[320:640, :320] = img3\n",
    "        cv2.rectangle(frame, (0, 320), (320, 640), (255, 0, 0), thickness=2)\n",
    "        frame[320:640, 320:640] = img4\n",
    "        cv2.rectangle(frame, (320, 320), (640, 640), (255, 255, 0), thickness=2)\n",
    "        \n",
    "    elif msec >=30000 and msec <32500: \n",
    "        star = cv2.xfeatures2d.StarDetector_create()               # 初始化STAR檢測器\n",
    "        kp = star.detect(frame,None)                                # 使用STAR尋找特徵點\n",
    "        frame = cv2.drawKeypoints(frame, kp, None, color=-1)\n",
    "    elif msec >=32500 and msec <35500: \n",
    "        k=np.ones((5, 5), np.uint8)\n",
    "        frame = cv2.morphologyEx(frame, cv2.MORPH_GRADIENT, k) \n",
    "    else:\n",
    "        if cv2.waitKey(25) & 0xFF == ord('q') or msec >= 36500:  # 按 'q' 鍵退出，或者時間到了\n",
    "            break\n",
    "\n",
    "\n",
    "\n",
    "    # add text label to frame\n",
    "    cv2.putText(frame, f'{cap.get(cv2.CAP_PROP_POS_FRAMES):.0f} frames, {msec:.0f} ms', \n",
    "                    (50, 250), font, .8, (0,0,255), 2, lt)\n",
    "    # display the frame  \n",
    "    out.write(frame)\n",
    "    cv2.imshow('frame', frame)\n",
    "\n",
    "cap.release()\n",
    "out.release()\n",
    "cv2.destroyAllWindows()\n",
    "cv2.waitKey(1)"
   ]
  },
  {
   "cell_type": "code",
   "execution_count": null,
   "metadata": {},
   "outputs": [],
   "source": []
  }
 ],
 "metadata": {
  "kernelspec": {
   "display_name": "Python 3 (ipykernel)",
   "language": "python",
   "name": "python3"
  },
  "language_info": {
   "codemirror_mode": {
    "name": "ipython",
    "version": 3
   },
   "file_extension": ".py",
   "mimetype": "text/x-python",
   "name": "python",
   "nbconvert_exporter": "python",
   "pygments_lexer": "ipython3",
   "version": "3.8.10"
  }
 },
 "nbformat": 4,
 "nbformat_minor": 4
}
