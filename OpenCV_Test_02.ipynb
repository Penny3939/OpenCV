{
 "cells": [
  {
   "cell_type": "markdown",
   "metadata": {},
   "source": [
    "## 練習 2-1\n",
    "> * 將 lenaColor.png 彩色讀入\n",
    "> * 將 b, g, r 分拆成三個 numpy 2 維的 array\n",
    "\n",
    "> * 將 b array 中的 [100:400, 150:415] 區塊變成白色\n",
    "> * 將 g array 中的 [100:400, 150:415] 區塊變成白色*1/2\n",
    "> * 將 r array 中的 [100:400, 150:415] 區塊變成黑色\n",
    "\n",
    "> * 再將這三個 array 依 b, g, r 的順序黏回去組成一 3 維的 array 並顯示出來\n",
    "> * 再將這三個 array 依 g, r, b 的順序黏回去組成一 3 維的 array 並顯示出來\n",
    "> * 再將這三個 array 依 b, b, b 的順序黏回去組成一 3 維的 array 並顯示出來"
   ]
  },
  {
   "cell_type": "code",
   "execution_count": 126,
   "metadata": {},
   "outputs": [
    {
     "data": {
      "text/plain": [
       "-1"
      ]
     },
     "execution_count": 126,
     "metadata": {},
     "output_type": "execute_result"
    }
   ],
   "source": [
    "import cv2\n",
    "import matplotlib.pyplot as plt\n",
    "import numpy as np\n",
    "\n",
    "img = cv2.imread('../image/lenaColor.png',1)\n",
    "\n",
    "b,g,r = cv2.split(img)\n",
    "b[100:400, 150:415] =255\n",
    "g[100:400, 150:415] =128\n",
    "r[100:400, 150:415] =0\n",
    "\n",
    "\n",
    "cv2.imshow('bgr',cv2.merge([b,g,r]))\n",
    "cv2.imshow('grb',cv2.merge([g,r,b]))\n",
    "cv2.imshow('bbb',cv2.merge([b,b,b]))\n",
    "\n",
    "\n",
    "cv2.waitKey(0)\n",
    "cv2.destroyAllWindows()\n",
    "cv2.waitKey(1)"
   ]
  },
  {
   "cell_type": "markdown",
   "metadata": {},
   "source": [
    "---\n",
    "## 練習 2-2 解答\n",
    "在一個 $512*512*3$ 的黑色畫布上, 利用畫圓的函數 cv2.circle, for loop 和 亂數\n",
    ">* 以畫布中心為圓心, 畫出 12 等距同心圓\n",
    ">* 12 同心圓RGB顏色隨機變換, 每次不一樣<br>\n",
    "><img src=\"..\\image\\circle2-1.jpg\"  style='width:40%'>"
   ]
  },
  {
   "cell_type": "code",
   "execution_count": 127,
   "metadata": {},
   "outputs": [
    {
     "data": {
      "text/plain": [
       "-1"
      ]
     },
     "execution_count": 127,
     "metadata": {},
     "output_type": "execute_result"
    }
   ],
   "source": [
    "import numpy as np\n",
    "import cv2\n",
    "import random\n",
    "\n",
    "gc = np.zeros((512,512,3), dtype='uint8')\n",
    "\n",
    "count=12\n",
    "for i in range(1,count+1):\n",
    "    b = random.randint(0,256)\n",
    "    g = random.randint(0,256)\n",
    "    r = random.randint(0,256)\n",
    "    cv2.circle(gc,(256,256), i*20, (b,g,r),3)\n",
    "\n",
    "cv2.imshow('draw',gc)\n",
    "\n",
    "cv2.waitKey(0)\n",
    "cv2.destroyAllWindows()\n",
    "cv2.waitKey(1)"
   ]
  },
  {
   "cell_type": "markdown",
   "metadata": {},
   "source": [
    "---\n",
    "## 練習 2-3\n",
    "在一個 $512*512*3$ 的黑色畫布上, 利用畫橢圓的函數 cv2.ellipse 和 for loop\n",
    ">* 以畫布中心為圓心, 畫出 12 同心等分 360 度橢圓, 顏色一樣<br>\n",
    "><img src=\"..\\image\\ellipse2-2.jpg\"  style='width:40%'>"
   ]
  },
  {
   "cell_type": "code",
   "execution_count": 129,
   "metadata": {},
   "outputs": [
    {
     "data": {
      "text/plain": [
       "-1"
      ]
     },
     "execution_count": 129,
     "metadata": {},
     "output_type": "execute_result"
    }
   ],
   "source": [
    "import numpy as np\n",
    "import cv2\n",
    "import random\n",
    "\n",
    "gc = np.zeros((512,512,3), dtype = 'uint8')\n",
    "\n",
    "count = 60\n",
    "for i in range(count):\n",
    "    cv2.ellipse(gc, (256,256),(200,50), 360/count *i, 0,360, (0,256,256),3)\n",
    "\n",
    "cv2.imshow('draw',gc)\n",
    "\n",
    "cv2.waitKey(0)\n",
    "cv2.destroyAllWindows()\n",
    "cv2.waitKey(1)"
   ]
  },
  {
   "attachments": {
    "d61ca577-d2ac-4788-8011-478a7f4e68ae.jpg": {
     "image/jpeg": "[encoded data removed]"
    }
   },
   "cell_type": "markdown",
   "metadata": {},
   "source": [
    "![_image_circle2-2.jpg](attachment:d61ca577-d2ac-4788-8011-478a7f4e68ae.jpg)---\n",
    "## 練習 2-4 \n",
    "在一個 $400*600*3$ 的黑色畫布上, 利用畫圓的函數隨機產生 40 個 (圓心隨機, 填滿顏色隨機, 半徑隨機)\n",
    "><img src=\"..\\image\\circle2-2.jpg\"  style='width:50%'>"
   ]
  },
  {
   "cell_type": "code",
   "execution_count": 131,
   "metadata": {},
   "outputs": [
    {
     "data": {
      "text/plain": [
       "-1"
      ]
     },
     "execution_count": 131,
     "metadata": {},
     "output_type": "execute_result"
    }
   ],
   "source": [
    "import numpy as np\n",
    "import cv2\n",
    "import random\n",
    "\n",
    "height = 400\n",
    "width = 600\n",
    "gc = np.zeros((height,width,3), np.uint8)\n",
    "\n",
    "count = 40\n",
    "for i in range(count):\n",
    "    x = np.random.randint(0,width)\n",
    "    y = np.random.randint(0,height)\n",
    "    color = np.random.randint(0,256, size = 3).tolist()\n",
    "    r = np.random.randint(5,100)\n",
    "    cv2.circle(gc,(x,y),r,color,-1)\n",
    "\n",
    "cv2.imshow('draw',gc)\n",
    "\n",
    "cv2.waitKey(0)\n",
    "cv2.destroyAllWindows()\n",
    "cv2.waitKey(1)"
   ]
  },
  {
   "cell_type": "code",
   "execution_count": null,
   "metadata": {},
   "outputs": [],
   "source": []
  }
 ],
 "metadata": {
  "kernelspec": {
   "display_name": "Python 3 (ipykernel)",
   "language": "python",
   "name": "python3"
  },
  "language_info": {
   "codemirror_mode": {
    "name": "ipython",
    "version": 3
   },
   "file_extension": ".py",
   "mimetype": "text/x-python",
   "name": "python",
   "nbconvert_exporter": "python",
   "pygments_lexer": "ipython3",
   "version": "3.8.10"
  }
 },
 "nbformat": 4,
 "nbformat_minor": 4
}
